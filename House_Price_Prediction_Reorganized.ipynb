{
 "cells": [
  {
   "cell_type": "markdown",
   "id": "944a48c6",
   "metadata": {},
   "source": [
    "## 1. Import Libraries"
   ]
  },
  {
   "cell_type": "code",
   "execution_count": 1,
   "id": "b3a7e0a5-43bb-44a4-8c0a-7f79d6b565ce",
   "metadata": {},
   "outputs": [],
   "source": [
    "## Importing Libraries\n",
    "import pandas as pd\n",
    "import numpy as np\n",
    "import matplotlib.pyplot as plt\n",
    "import seaborn as sns"
   ]
  },
  {
   "cell_type": "code",
   "execution_count": 2,
   "id": "d5aea0ea-7b26-4cd7-9de1-19c56f5bd8cd",
   "metadata": {},
   "outputs": [
    {
     "ename": "NameError",
     "evalue": "name 'df' is not defined",
     "output_type": "error",
     "traceback": [
      "\u001b[31m---------------------------------------------------------------------------\u001b[39m",
      "\u001b[31mNameError\u001b[39m                                 Traceback (most recent call last)",
      "\u001b[36mCell\u001b[39m\u001b[36m \u001b[39m\u001b[32mIn[2]\u001b[39m\u001b[32m, line 4\u001b[39m\n\u001b[32m      1\u001b[39m \u001b[38;5;28;01mfrom\u001b[39;00m\u001b[38;5;250m \u001b[39m\u001b[34;01mstatsmodels\u001b[39;00m\u001b[34;01m.\u001b[39;00m\u001b[34;01mstats\u001b[39;00m\u001b[34;01m.\u001b[39;00m\u001b[34;01moutliers_influence\u001b[39;00m\u001b[38;5;250m \u001b[39m\u001b[38;5;28;01mimport\u001b[39;00m variance_inflation_factor\n\u001b[32m      3\u001b[39m \u001b[38;5;66;03m# Selecting relevant features\u001b[39;00m\n\u001b[32m----> \u001b[39m\u001b[32m4\u001b[39m X = \u001b[43mdf\u001b[49m[[\u001b[33m'\u001b[39m\u001b[33mEstimated Value\u001b[39m\u001b[33m'\u001b[39m,\u001b[33m\"\u001b[39m\u001b[33mSale Price\u001b[39m\u001b[33m\"\u001b[39m]]  \u001b[38;5;66;03m# Include other features if needed\u001b[39;00m\n\u001b[32m      6\u001b[39m \u001b[38;5;66;03m# Calculating VIF\u001b[39;00m\n\u001b[32m      7\u001b[39m vif = pd.DataFrame()\n",
      "\u001b[31mNameError\u001b[39m: name 'df' is not defined"
     ]
    }
   ],
   "source": [
    "from statsmodels.stats.outliers_influence import variance_inflation_factor\n",
    "\n",
    "# Selecting relevant features\n",
    "X = df[['Estimated Value',\"Sale Price\"]]  # Include other features if needed\n",
    "\n",
    "# Calculating VIF\n",
    "vif = pd.DataFrame()\n",
    "vif[\"Feature\"] = X.columns\n",
    "vif[\"VIF Score\"] = [variance_inflation_factor(X.values, i) for i in range(X.shape[1])]\n",
    "\n",
    "print(vif)\n"
   ]
  },
  {
   "cell_type": "code",
   "execution_count": null,
   "id": "5dfb640f-6bcd-4610-960a-c90de3fb227b",
   "metadata": {},
   "outputs": [],
   "source": [
    "import numpy as np\n",
    "\n",
    "# Check for infinities\n",
    "print(np.isinf(df).sum())\n",
    "\n",
    "# Check for NaNs\n",
    "print(df.isnull().sum())"
   ]
  },
  {
   "cell_type": "code",
   "execution_count": null,
   "id": "54082803-6ae3-48b1-9796-bc05d0bedc9d",
   "metadata": {},
   "outputs": [],
   "source": [
    "from sklearn.model_selection import train_test_split\n",
    "X_train, X_test, y_train, y_test = train_test_split(X, y, test_size=0.3, random_state=42)"
   ]
  },
  {
   "cell_type": "code",
   "execution_count": null,
   "id": "a1019832-32b6-48c5-ab1f-4820fb7906fc",
   "metadata": {},
   "outputs": [],
   "source": [
    "from sklearn.linear_model import LinearRegression\n",
    "lr = LinearRegression()"
   ]
  },
  {
   "cell_type": "code",
   "execution_count": null,
   "id": "5e1eee45-42f0-4e22-aacb-2dda827ea63b",
   "metadata": {},
   "outputs": [],
   "source": [
    "## Calculating the accuracy of the model\n",
    "from sklearn.metrics import r2_score\n",
    "\n",
    "r2 = r2_score(y_test, y_pred)\n",
    "print(\"R² Score:\", r2)"
   ]
  },
  {
   "cell_type": "code",
   "execution_count": null,
   "id": "48622a0f-229e-4382-a3e8-d6c35d7af6ad",
   "metadata": {},
   "outputs": [],
   "source": [
    "from sklearn.metrics import mean_absolute_error\n",
    "\n",
    "mae = mean_absolute_error(y_test, y_pred)\n",
    "print(\"MAE:\", mae)"
   ]
  },
  {
   "cell_type": "code",
   "execution_count": null,
   "id": "7a46c216-7c54-4b5e-bf1b-4c3b14658619",
   "metadata": {},
   "outputs": [],
   "source": [
    "from sklearn.metrics import mean_squared_error\n",
    "rmse = np.sqrt(mean_squared_error(y_test, y_pred))\n",
    "print(\"RMSE:\", rmse)"
   ]
  },
  {
   "cell_type": "code",
   "execution_count": null,
   "id": "953fee11-2cd5-42b7-a81a-14b7b0582c18",
   "metadata": {},
   "outputs": [],
   "source": [
    "import xgboost as xgb\n",
    "from sklearn.model_selection import train_test_split\n",
    "from sklearn.metrics import r2_score, mean_absolute_error, mean_squared_error\n",
    "import numpy as np"
   ]
  },
  {
   "cell_type": "code",
   "execution_count": null,
   "id": "f05ff6bc-0d45-4e55-83e8-8e1744eeb7ff",
   "metadata": {},
   "outputs": [],
   "source": [
    "from sklearn.model_selection import GridSearchCV\n",
    "from xgboost import XGBRegressor\n",
    "\n",
    "xgb_model = XGBRegressor(random_state=42)\n",
    "\n",
    "param_grid = {\n",
    "    'n_estimators': [100, 200],\n",
    "    'max_depth': [4, 6, 8],\n",
    "    'learning_rate': [0.01, 0.05, 0.1],\n",
    "    'subsample': [0.6, 0.8],\n",
    "    'colsample_bytree': [0.6, 0.8]\n",
    "}\n",
    "\n",
    "grid = GridSearchCV(estimator=xgb_model, param_grid=param_grid, cv=3, scoring='r2', verbose=1, n_jobs=-1)\n",
    "grid.fit(X_train, y_train)\n",
    "\n",
    "print(\"Best Params:\", grid.best_params_)\n",
    "print(\"Best R2:\", grid.best_score_)"
   ]
  },
  {
   "cell_type": "code",
   "execution_count": null,
   "id": "e5815913-d7e8-4e9b-9f4b-9ee72e9f2938",
   "metadata": {},
   "outputs": [],
   "source": [
    "from sklearn.metrics import r2_score, mean_absolute_error, mean_squared_error\n",
    "import numpy as np\n",
    "\n",
    "# Predict on test set\n",
    "y_pred = grid.predict(X_test)\n",
    "\n",
    "# If you applied log transformation earlier, reverse it\n",
    "y_test_original = np.exp(y_test)\n",
    "y_pred_original = np.exp(y_pred)\n",
    "\n",
    "# Calculate metrics\n",
    "r2 = r2_score(y_test_original, y_pred_original)\n",
    "mae = mean_absolute_error(y_test_original, y_pred_original)\n",
    "rmse = np.sqrt(mean_squared_error(y_test_original, y_pred_original))\n",
    "\n",
    "print(f\"📊 Final Model Evaluation After Tuning:\")\n",
    "print(f\"🔹 R² Score: {r2:.4f}\")\n",
    "print(f\"🔹 MAE: ₹{mae:,.2f}\")\n",
    "print(f\"🔹 RMSE: ₹{rmse:,.2f}\")"
   ]
  },
  {
   "cell_type": "code",
   "execution_count": null,
   "id": "cbe145e8-ebc3-44d3-80df-16648612ec4a",
   "metadata": {},
   "outputs": [],
   "source": [
    "from sklearn.model_selection import train_test_split\n",
    "from xgboost import XGBRegressor\n",
    "from sklearn.metrics import r2_score, mean_absolute_error, mean_squared_error\n",
    "\n",
    "# ✅ Step 1: Define features and target\n",
    "X = df.drop(['Sale Price'], axis=1)\n",
    "y = df['Sale Price']\n",
    "\n",
    "# If you already applied log to Sale Price before, do NOT do it again\n",
    "# If not yet, uncomment below\n",
    "# y = np.log(df['Sale Price'])\n",
    "\n",
    "# ✅ Step 2: Train-Test Split\n",
    "X_train, X_test, y_train, y_test = train_test_split(X, y, test_size=0.3, random_state=42)\n",
    "\n",
    "# ✅ Step 3: Fit the XGBoost Model\n",
    "model = XGBRegressor(random_state=42)\n",
    "model.fit(X_train, y_train)\n",
    "\n",
    "# ✅ Step 4: Predict and Evaluate\n",
    "y_pred = model.predict(X_test)\n",
    "\n",
    "# If you log-transformed target, apply exp back\n",
    "# y_test = np.exp(y_test)\n",
    "# y_pred = np.exp(y_pred)\n",
    "\n",
    "r2 = r2_score(y_test, y_pred)\n",
    "mae = mean_absolute_error(y_test, y_pred)\n",
    "rmse = np.sqrt(mean_squared_error(y_test, y_pred))\n",
    "\n",
    "# ✅ Step 5: Print Metrics\n",
    "print(\"📊 Final Model Evaluation After Outlier Removal\")\n",
    "print(f\"🔹 R² Score: {r2:.4f}\")\n",
    "print(f\"🔹 MAE: ₹{mae:,.2f}\")\n",
    "print(f\"🔹 RMSE: ₹{rmse:,.2f}\")"
   ]
  },
  {
   "cell_type": "code",
   "execution_count": null,
   "id": "00475edc-72d2-4414-ab1a-ae90855e238b",
   "metadata": {},
   "outputs": [],
   "source": [
    "import matplotlib.pyplot as plt\n",
    "import seaborn as sns\n",
    "import numpy as np\n",
    "\n",
    "# Use this only if your model predicted log values\n",
    "# and you've already converted back to actual using np.exp()\n",
    "# y_test_actual = np.exp(y_test)\n",
    "# y_pred_actual = np.exp(y_pred)\n",
    "\n",
    "plt.figure(figsize=(10, 6))\n",
    "sns.scatterplot(x=y_test_actual, y=y_pred_actual, alpha=0.5, color='royalblue')\n",
    "plt.plot([y_test_actual.min(), y_test_actual.max()],\n",
    "         [y_test_actual.min(), y_test_actual.max()],\n",
    "         '--', color='red', linewidth=2)\n",
    "\n",
    "plt.title('📊 Actual vs Predicted Sale Prices', fontsize=16)\n",
    "plt.xlabel('Actual Sale Price (₹)', fontsize=12)\n",
    "plt.ylabel('Predicted Sale Price (₹)', fontsize=12)\n",
    "plt.grid(True)\n",
    "plt.tight_layout()\n",
    "plt.show()"
   ]
  },
  {
   "cell_type": "code",
   "execution_count": null,
   "id": "db70c8cd-6985-483b-955f-ec58c7d6e59d",
   "metadata": {},
   "outputs": [],
   "source": [
    "import numpy as np\n",
    "import pandas as pd\n",
    "\n",
    "# Define function to predict house price using list input\n",
    "def predict_house_price_from_list(model, input_list):\n",
    "    # Feature names (must match the training order)\n",
    "    feature_names = [\n",
    "        'crime_rate', 'renovation_level', 'Year', 'num_rooms',\n",
    "        'Property', 'amenities_rating', 'carpet_area', 'nearby_restaurants',\n",
    "        'public_transport_availability', 'property_tax_rate',\n",
    "        'distance_to_school', 'Locality', 'Residential',\n",
    "        'Estimated Value', 'Month'\n",
    "    ]\n",
    "\n",
    "    # Create DataFrame for prediction\n",
    "    input_df = pd.DataFrame([input_list], columns=feature_names)\n",
    "\n",
    "    # Predict log(price)\n",
    "    log_price = model.predict(input_df)[0]\n",
    "\n",
    "    # Convert back to original price\n",
    "    predicted_price = np.exp(log_price)\n",
    "\n",
    "    print(f\"🏠 Predicted Sale Price: ₹{predicted_price:,.2f}\")\n",
    "    return predicted_price"
   ]
  },
  {
   "cell_type": "markdown",
   "id": "444b935d",
   "metadata": {},
   "source": [
    "## 2. Load the Dataset"
   ]
  },
  {
   "cell_type": "code",
   "execution_count": null,
   "id": "a7f08cdc-b886-4810-94cf-9e71f6d88f71",
   "metadata": {},
   "outputs": [],
   "source": [
    "## Importing dataset\n",
    "df = pd.read_csv('dataset.csv')"
   ]
  },
  {
   "cell_type": "markdown",
   "id": "6e8e0c34",
   "metadata": {},
   "source": [
    "## 3. Data Cleaning"
   ]
  },
  {
   "cell_type": "code",
   "execution_count": null,
   "id": "d1e4c027-b20d-4871-9568-f289cf4a25e0",
   "metadata": {},
   "outputs": [],
   "source": [
    "df.columns"
   ]
  },
  {
   "cell_type": "code",
   "execution_count": null,
   "id": "5fcd48dc-2969-4457-b0a0-9d634f278e68",
   "metadata": {},
   "outputs": [],
   "source": [
    "df['Residential'].unique()  ## Target Encoding"
   ]
  },
  {
   "cell_type": "code",
   "execution_count": null,
   "id": "d4bb8409-b8b9-4c94-b0c3-da38c75e562a",
   "metadata": {},
   "outputs": [],
   "source": [
    "df['renovation_level'].unique() ## Label Encoding"
   ]
  },
  {
   "cell_type": "code",
   "execution_count": null,
   "id": "577501d6-34ba-4686-8de0-ef64802fb262",
   "metadata": {},
   "outputs": [],
   "source": [
    "df['Property'].unique()   ### Target Encoding"
   ]
  },
  {
   "cell_type": "code",
   "execution_count": null,
   "id": "c38e8a75-67ed-42f3-acdf-53e3e254ec7a",
   "metadata": {},
   "outputs": [],
   "source": [
    "df['amenities_rating'].unique() ## Label Encoding"
   ]
  },
  {
   "cell_type": "code",
   "execution_count": null,
   "id": "a3d4c1c0-d01c-47d7-b561-d9fb64b8c10e",
   "metadata": {},
   "outputs": [],
   "source": [
    "df['public_transport_availability'].unique() ## Label Encoding"
   ]
  },
  {
   "cell_type": "code",
   "execution_count": null,
   "id": "ac5586b4-076a-4950-831d-7616c883c9f9",
   "metadata": {},
   "outputs": [],
   "source": [
    "df['Locality'].unique() ## Target Encoding"
   ]
  },
  {
   "cell_type": "code",
   "execution_count": null,
   "id": "2fd616e0-80a4-4047-b8fc-dd1ed442a54b",
   "metadata": {},
   "outputs": [],
   "source": []
  },
  {
   "cell_type": "code",
   "execution_count": null,
   "id": "a66c805d-270c-431f-bad6-8f7b60f10ed2",
   "metadata": {},
   "outputs": [],
   "source": []
  },
  {
   "cell_type": "code",
   "execution_count": null,
   "id": "2bf8db17-70f5-4ab6-8e9b-7f4033a5d7b6",
   "metadata": {},
   "outputs": [],
   "source": []
  },
  {
   "cell_type": "code",
   "execution_count": null,
   "id": "fb158d11-ee12-4da1-9b76-de022bfc78d6",
   "metadata": {},
   "outputs": [],
   "source": [
    "## Checking null values in dataset\n",
    "df.isnull().sum()"
   ]
  },
  {
   "cell_type": "code",
   "execution_count": null,
   "id": "51297478-9f8f-4125-a50b-87f99268f262",
   "metadata": {},
   "outputs": [],
   "source": [
    "## Removing extra spaces in Date Column\n",
    "df['Date'] = df['Date'].str.strip()"
   ]
  },
  {
   "cell_type": "code",
   "execution_count": null,
   "id": "7c352f7c-9854-4bcf-8e6f-741f3b5f80a8",
   "metadata": {},
   "outputs": [],
   "source": [
    "df['Date'].tail()"
   ]
  },
  {
   "cell_type": "code",
   "execution_count": null,
   "id": "83a8b4b6-c179-411b-989f-ce4f8997a432",
   "metadata": {},
   "outputs": [],
   "source": [
    "## Removing spaces from the date data\n",
    "df['Date'] = df['Date'].str.strip()"
   ]
  },
  {
   "cell_type": "code",
   "execution_count": null,
   "id": "9b7d9be0-cfb8-4763-b97b-0bd5c972576a",
   "metadata": {},
   "outputs": [],
   "source": [
    "## Converting all the date data into same data type and removing time from the date\n",
    "df['Date'] = pd.to_datetime(df['Date'], format='mixed', dayfirst=True, errors='coerce')\n",
    "df['Date'] = df['Date'].dt.date"
   ]
  },
  {
   "cell_type": "code",
   "execution_count": null,
   "id": "3a3e4327-742e-48d2-aebe-f0d31dc436dc",
   "metadata": {},
   "outputs": [],
   "source": [
    "df['Date']"
   ]
  },
  {
   "cell_type": "code",
   "execution_count": null,
   "id": "27dcaddd-395c-4230-b7df-1a182af33bea",
   "metadata": {},
   "outputs": [],
   "source": [
    "## Converting date datatype into (object --> Date)\n",
    "df['Date'] = pd.to_datetime(df['Date'])"
   ]
  },
  {
   "cell_type": "code",
   "execution_count": null,
   "id": "1ee30a54-d2fd-4540-af6e-8fff370ad029",
   "metadata": {},
   "outputs": [],
   "source": [
    "# Convert column to string first, then strip spaces, then replace non-numeric values\n",
    "df['crime_rate'] = df['crime_rate'].astype(str).str.strip().replace(\n",
    "    [\"Not Provided\", \"not provided\", \"NOT PROVIDED\", \"N/A\", \"-\", \"Unknown\"], np.nan\n",
    ")\n",
    "\n",
    "# Convert to float after replacing invalid values\n",
    "df['crime_rate'] = pd.to_numeric(df['crime_rate'], errors='coerce')\n",
    "\n",
    "# Fill NaN values with median\n",
    "df['crime_rate'].fillna(df['crime_rate'].median(), inplace=True)"
   ]
  },
  {
   "cell_type": "code",
   "execution_count": null,
   "id": "082a740e-442a-4b98-8893-835c795c1646",
   "metadata": {},
   "outputs": [],
   "source": [
    "## Extracting month from the Date column\n",
    "df['Month'] = df['Date'].dt.month"
   ]
  },
  {
   "cell_type": "code",
   "execution_count": null,
   "id": "d4229b5a-7ce2-43ed-9ce4-86945cb1ec66",
   "metadata": {},
   "outputs": [],
   "source": [
    "## Dropping unwanted columns for model building\n",
    "df.drop(columns=['Date','Address'],axis=1,inplace=True)"
   ]
  },
  {
   "cell_type": "code",
   "execution_count": null,
   "id": "371981ae-e102-4368-ae41-86088da0d337",
   "metadata": {},
   "outputs": [],
   "source": [
    "correlation = df[['Estimated Value', 'Sale Price']].corr()\n",
    "print(correlation)"
   ]
  },
  {
   "cell_type": "code",
   "execution_count": null,
   "id": "cc9fdfd0-7a20-4bbe-beb2-a1b135403489",
   "metadata": {},
   "outputs": [],
   "source": [
    "df.columns"
   ]
  },
  {
   "cell_type": "code",
   "execution_count": null,
   "id": "d3aa7460-f4ac-406b-8968-1b78d4a7def5",
   "metadata": {},
   "outputs": [],
   "source": [
    "## Dropping Date,specifications\n",
    "df.drop(columns=['specifications'],inplace=True)"
   ]
  },
  {
   "cell_type": "code",
   "execution_count": null,
   "id": "8a88b0f4-8001-4e85-941c-d0e202499cb7",
   "metadata": {},
   "outputs": [],
   "source": [
    "df['amenities_rating'].unique()"
   ]
  },
  {
   "cell_type": "code",
   "execution_count": null,
   "id": "27afdee0-3873-4d0a-bc9f-78a07cb47902",
   "metadata": {},
   "outputs": [],
   "source": [
    "df['public_transport_availability'].unique()"
   ]
  },
  {
   "cell_type": "code",
   "execution_count": null,
   "id": "7515c49d-3f1b-4ddf-a41c-5ba8679987d8",
   "metadata": {},
   "outputs": [],
   "source": [
    "df['Residential'].unique()"
   ]
  },
  {
   "cell_type": "code",
   "execution_count": null,
   "id": "086b41dc-db75-48d3-89ba-a5b61bb14685",
   "metadata": {},
   "outputs": [],
   "source": [
    "# Replace 'Not Provided' or similar text with NaN\n",
    "df['carpet_area'] = df['carpet_area'].replace('Not Provided', np.nan)"
   ]
  },
  {
   "cell_type": "code",
   "execution_count": null,
   "id": "b7a909dc-31df-4cd2-bb23-baecefc275ca",
   "metadata": {},
   "outputs": [],
   "source": [
    "## Fill Null values with median\n",
    "df['carpet_area'].fillna(df['carpet_area'].median(), inplace=True)"
   ]
  },
  {
   "cell_type": "code",
   "execution_count": null,
   "id": "b076eb3f-86c3-4d80-a7e4-d964b8b50739",
   "metadata": {},
   "outputs": [],
   "source": [
    "df['property_tax_rate'] = df['property_tax_rate'].replace('Not Provided', np.nan)"
   ]
  },
  {
   "cell_type": "code",
   "execution_count": null,
   "id": "82aea57e-88ee-4540-997f-97374692c723",
   "metadata": {},
   "outputs": [],
   "source": [
    "df['property_tax_rate'].fillna(df['property_tax_rate'].median(),inplace=True)"
   ]
  },
  {
   "cell_type": "code",
   "execution_count": null,
   "id": "3ef976a4-5dbc-4775-b37e-e97eab726533",
   "metadata": {},
   "outputs": [],
   "source": [
    "df['Sale Price'] = np.log(df['Sale Price'])"
   ]
  },
  {
   "cell_type": "code",
   "execution_count": null,
   "id": "c6658172-2959-4c94-8635-b6801b81139e",
   "metadata": {},
   "outputs": [],
   "source": [
    "df.columns"
   ]
  },
  {
   "cell_type": "code",
   "execution_count": null,
   "id": "7499092b-df35-4288-a7ca-4bf136ceebdf",
   "metadata": {},
   "outputs": [],
   "source": [
    "print(df[['Estimated Value', 'Sale Price']].corr())"
   ]
  },
  {
   "cell_type": "code",
   "execution_count": null,
   "id": "7f62cfba-e88f-40de-8473-13d2ed90cfb7",
   "metadata": {},
   "outputs": [],
   "source": [
    "df.replace([np.inf, -np.inf], np.nan, inplace=True)"
   ]
  },
  {
   "cell_type": "code",
   "execution_count": null,
   "id": "ffbfc077-cb2c-450a-af23-8ac157b7d3ee",
   "metadata": {},
   "outputs": [],
   "source": [
    "df.fillna(df.mean(numeric_only=True), inplace=True)"
   ]
  },
  {
   "cell_type": "code",
   "execution_count": null,
   "id": "e495f7b5-bbfb-4765-82ce-12e3602b2970",
   "metadata": {},
   "outputs": [],
   "source": [
    "X = df.drop('Sale Price',axis=1)\n",
    "y = df['Sale Price']"
   ]
  },
  {
   "cell_type": "code",
   "execution_count": null,
   "id": "c8672e56-fccb-462b-9fc3-cb49f39e27a3",
   "metadata": {},
   "outputs": [],
   "source": [
    "y_pred = lr.predict(X_test)"
   ]
  },
  {
   "cell_type": "code",
   "execution_count": null,
   "id": "9a720032-189a-4aad-9a3e-b24a42b0be7f",
   "metadata": {},
   "outputs": [],
   "source": [
    "price = np.exp(y_pred) "
   ]
  },
  {
   "cell_type": "code",
   "execution_count": null,
   "id": "d0178f5d-eba0-44d2-a91e-0f1f16b437bf",
   "metadata": {},
   "outputs": [],
   "source": [
    "# Select only numeric columns\n",
    "numeric_cols = df.select_dtypes(include=['float64', 'int64']).columns\n",
    "\n",
    "# Apply IQR method to remove outliers\n",
    "for col in numeric_cols:\n",
    "    Q1 = df[col].quantile(0.25)\n",
    "    Q3 = df[col].quantile(0.75)\n",
    "    IQR = Q3 - Q1\n",
    "    lower_bound = Q1 - 1.5 * IQR\n",
    "    upper_bound = Q3 + 1.5 * IQR\n",
    "    df = df[(df[col] >= lower_bound) & (df[col] <= upper_bound)]\n",
    "\n",
    "print(f\"✅ After outlier removal, shape: {df.shape}\")"
   ]
  },
  {
   "cell_type": "code",
   "execution_count": null,
   "id": "8b0e1fbb-dfd1-43b1-ad6e-01605d27ea9a",
   "metadata": {},
   "outputs": [],
   "source": [
    "predict_house_price_from_list(model, house_data)"
   ]
  },
  {
   "cell_type": "code",
   "execution_count": null,
   "id": "294e7af8-2277-4603-a33e-6b03d16ee7c9",
   "metadata": {},
   "outputs": [],
   "source": []
  },
  {
   "cell_type": "markdown",
   "id": "d3e28656",
   "metadata": {},
   "source": [
    "## 4. Preprocessing / Feature Engineering"
   ]
  },
  {
   "cell_type": "code",
   "execution_count": null,
   "id": "5325073f-9509-402b-b40b-0bf2c880bc59",
   "metadata": {},
   "outputs": [],
   "source": [
    "## Mapping renovation_level (Encoding)\n",
    "renovation_mapping = {\n",
    "    'Minor': 1, 'Basic': 2, 'Limited': 3, 'Essential': 4, 'Partial': 5,\n",
    "    'Standard': 6, 'Advanced': 7, 'Extensive': 8, 'Complete': 9, 'Premium': 10\n",
    "}\n",
    "\n",
    "df['renovation_level'] = df['renovation_level'].map(renovation_mapping)"
   ]
  },
  {
   "cell_type": "code",
   "execution_count": null,
   "id": "81f8070b-178c-4652-b2c5-98458301b741",
   "metadata": {},
   "outputs": [],
   "source": [
    "## Changing the Number of rooms column into numerical\n",
    "room_mapping = {\n",
    "    'Two rooms': 2,\n",
    "    'Three rooms': 3,\n",
    "    'Four rooms': 4,\n",
    "    'Six rooms': 6,\n",
    "    'Eight rooms': 8\n",
    "}\n",
    "\n",
    "df['num_rooms'] = df['num_rooms'].map(room_mapping)"
   ]
  },
  {
   "cell_type": "code",
   "execution_count": null,
   "id": "d9220a06-7dc4-4fff-8e3a-b135440df957",
   "metadata": {},
   "outputs": [],
   "source": [
    "property_mean_map = df.groupby('Property')['Sale Price'].mean().to_dict()\n",
    "\n",
    "print(property_mean_map)"
   ]
  },
  {
   "cell_type": "code",
   "execution_count": null,
   "id": "dcaae68c-7991-454d-91d3-be28f756d270",
   "metadata": {},
   "outputs": [],
   "source": [
    "## Encoding Property Column\n",
    "# Replace Property column with its target (mean Sale Price) encoding\n",
    "df['Property'] = df['Property'].map(df.groupby('Property')['Sale Price'].mean())"
   ]
  },
  {
   "cell_type": "code",
   "execution_count": null,
   "id": "5bf6cbcb-49da-4f85-bc77-46889361b834",
   "metadata": {},
   "outputs": [],
   "source": [
    "## Encoding amenities_rating\n",
    "amenities_mapping = {\n",
    "    'Marginal': 1,\n",
    "    'Unimpressive': 2,\n",
    "    'Below Average': 3,\n",
    "    'Commonplace': 4,\n",
    "    'Mediocre': 5,\n",
    "    'Satisfactory': 6,\n",
    "    'Superb': 7,\n",
    "    'Outstanding': 8,\n",
    "    'Exceptional': 9,\n",
    "    'Luxurious': 10\n",
    "}\n",
    "\n",
    "df['amenities_rating'] = df['amenities_rating'].map(amenities_mapping)"
   ]
  },
  {
   "cell_type": "code",
   "execution_count": null,
   "id": "7f4fc526-dede-4c3c-b191-bf0b6dafdf25",
   "metadata": {},
   "outputs": [],
   "source": [
    "## Encoding public_transport_availability\n",
    "transport_mapping = {\n",
    "    'Inadequate': 1,\n",
    "    'Sparse': 2,\n",
    "    'Insufficient': 3,\n",
    "    'Limited': 4,\n",
    "    'Patchy': 5,\n",
    "    'Scattered': 6,\n",
    "    'Accessible': 7,\n",
    "    'Well-connected': 8,\n",
    "    'Extensive': 9,\n",
    "    'Abundant': 10\n",
    "}\n",
    "\n",
    "df['public_transport_availability'] = df['public_transport_availability'].map(transport_mapping)"
   ]
  },
  {
   "cell_type": "code",
   "execution_count": null,
   "id": "052acc39-1806-4a47-a219-b9f5b77476d9",
   "metadata": {},
   "outputs": [],
   "source": [
    "## Converting Residential \n",
    "property_mean_map = df.groupby('Residential')['Sale Price'].mean().to_dict()\n",
    "print(property_mean_map)"
   ]
  },
  {
   "cell_type": "code",
   "execution_count": null,
   "id": "f2a8f9dc-cc36-47ad-b1bd-a898958c76bd",
   "metadata": {},
   "outputs": [],
   "source": [
    "## Encoding Property Column\n",
    "# Replace Reside column with its target (mean Sale Price) encoding\n",
    "df['Residential'] = df['Residential'].map(df.groupby('Residential')['Sale Price'].mean())"
   ]
  },
  {
   "cell_type": "code",
   "execution_count": null,
   "id": "0e034512-9b9f-4f5c-94b1-fbf6356ef938",
   "metadata": {},
   "outputs": [],
   "source": [
    "locality_mean_map = df.groupby('Locality')['Sale Price'].mean().to_dict()\n",
    "print(locality_mean_map)"
   ]
  },
  {
   "cell_type": "code",
   "execution_count": null,
   "id": "4d078a1d-3b12-4623-8766-21736d83fdd6",
   "metadata": {},
   "outputs": [],
   "source": [
    "# Target encode the simplified Locality column\n",
    "locality_target_mean = df.groupby('Locality')['Sale Price'].mean()\n",
    "df['Locality'] = df['Locality'].map(locality_target_mean)"
   ]
  },
  {
   "cell_type": "code",
   "execution_count": null,
   "id": "93854581-c7bb-4ffc-8b99-28eb19260527",
   "metadata": {},
   "outputs": [],
   "source": [
    "df['carpet_area'] = df['carpet_area'].astype('float')"
   ]
  },
  {
   "cell_type": "code",
   "execution_count": null,
   "id": "e3129d17-54d1-4bc6-ba8b-92a4a70ad5e0",
   "metadata": {},
   "outputs": [],
   "source": [
    "df['property_tax_rate'] = df['property_tax_rate'].astype('float')"
   ]
  },
  {
   "cell_type": "code",
   "execution_count": null,
   "id": "18c4f292-7e8a-465e-95bd-cc968ed81f5b",
   "metadata": {},
   "outputs": [],
   "source": [
    "## Transforming Estimated Value by Log transformation\n",
    "df['Estimated Value'] = np.log(df['Estimated Value'])"
   ]
  },
  {
   "cell_type": "code",
   "execution_count": null,
   "id": "7bdc2ef6-d8d5-49db-bac7-dcff2b283c53",
   "metadata": {},
   "outputs": [],
   "source": [
    "# Split your dataset (after preprocessing and log transformation)\n",
    "X = df.drop(columns=['Sale Price'])   # Features\n",
    "y = df['Sale Price']                  # Target (log transformed)\n",
    "\n",
    "# Train-test split\n",
    "X_train, X_test, y_train, y_test = train_test_split(X, y, test_size=0.2, random_state=42)"
   ]
  },
  {
   "cell_type": "code",
   "execution_count": null,
   "id": "a0dff818-39db-4b20-8d9e-62784592c2f1",
   "metadata": {},
   "outputs": [],
   "source": [
    "# Example values for a house (in the order your model expects)\n",
    "house_data = [\n",
    "    4.5,     # crime_rate\n",
    "    6,       # renovation_level\n",
    "    2009,    # Year\n",
    "    3,       # num_rooms\n",
    "    12.11,   # Property (target-encoded)\n",
    "    8,       # amenities_rating\n",
    "    1100.0,  # carpet_area\n",
    "    9.0,     # nearby_restaurants\n",
    "    7,       # public_transport_availability\n",
    "    1.45,    # property_tax_rate\n",
    "    4.2,     # distance_to_school\n",
    "    11.57,   # Locality (target-encoded)\n",
    "    1.0,     # Residential\n",
    "    13.02,   # Estimated Value (log-transformed or drop if not used)\n",
    "    6        # Month\n",
    "]"
   ]
  },
  {
   "cell_type": "markdown",
   "id": "5b0c2fad",
   "metadata": {},
   "source": [
    "## 5. Exploratory Data Analysis (EDA)"
   ]
  },
  {
   "cell_type": "code",
   "execution_count": null,
   "id": "d965df83-119c-4429-9711-299aac16a4e1",
   "metadata": {},
   "outputs": [],
   "source": [
    "##First 5 rows in dataset\n",
    "df.head()"
   ]
  },
  {
   "cell_type": "code",
   "execution_count": null,
   "id": "1ce456c8-5404-4077-b019-a95744d96d91",
   "metadata": {},
   "outputs": [],
   "source": [
    "## Checking info about data(Non-Null,Count,Dtype)\n",
    "df.info()"
   ]
  },
  {
   "cell_type": "code",
   "execution_count": null,
   "id": "7aa23071-dda9-44d6-93cc-9490fdb381b0",
   "metadata": {},
   "outputs": [],
   "source": [
    "df['Date'].head()"
   ]
  },
  {
   "cell_type": "code",
   "execution_count": null,
   "id": "dc55db7c-87f2-4f53-af4a-63a6c2814613",
   "metadata": {},
   "outputs": [],
   "source": [
    "df.head()"
   ]
  },
  {
   "cell_type": "code",
   "execution_count": null,
   "id": "24d086b2-db44-43f3-bb14-cda8ecf77763",
   "metadata": {},
   "outputs": [],
   "source": [
    "df['crime_rate'].value_counts()"
   ]
  },
  {
   "cell_type": "code",
   "execution_count": null,
   "id": "59bf1945-bf5a-4d18-a45d-0d801066893d",
   "metadata": {},
   "outputs": [],
   "source": [
    "df.info()"
   ]
  },
  {
   "cell_type": "code",
   "execution_count": null,
   "id": "52bcf583-af49-4717-a08e-928ea21643e5",
   "metadata": {},
   "outputs": [],
   "source": [
    "df.head()"
   ]
  },
  {
   "cell_type": "code",
   "execution_count": null,
   "id": "ff19552f-8ecd-436b-8192-d4002dffc5b0",
   "metadata": {},
   "outputs": [],
   "source": [
    "## Distribution of sales price\n",
    "plt.figure(figsize=(8,5))\n",
    "sns.histplot(df['Sale Price'], bins=50, kde=True, color='blue')\n",
    "plt.title('Distribution of Sale Price')\n",
    "plt.xlabel('Sale Price')\n",
    "plt.ylabel('Frequency')\n",
    "plt.show()"
   ]
  },
  {
   "cell_type": "code",
   "execution_count": null,
   "id": "daa0c53d-64ac-488a-a761-42191f05bac0",
   "metadata": {},
   "outputs": [],
   "source": [
    "##Boxplot of Sale Price by Locality (Helps to understand how prices vary across different areas.)\n",
    "plt.figure(figsize=(50,20))\n",
    "sns.boxplot(x='Locality', y='Sale Price', data=df)\n",
    "plt.xticks(rotation=90)  # Rotate for better visibility\n",
    "plt.title(\"Sale Price Distribution Across Localities\")\n",
    "plt.show()"
   ]
  },
  {
   "cell_type": "code",
   "execution_count": null,
   "id": "50fb128f-6dc9-4b7f-8eee-09d8bb4dea1a",
   "metadata": {},
   "outputs": [],
   "source": [
    "##Scatter Plot of Carpet Area vs Sale Price\n",
    "##Shows whether larger houses sell for higher prices.\n",
    "plt.figure(figsize=(8,5))\n",
    "sns.scatterplot(x=df['carpet_area'], y=df['Sale Price'], alpha=0.5)\n",
    "plt.title('Carpet Area vs Sale Price')\n",
    "plt.xlabel('Carpet Area (sq ft)')\n",
    "plt.ylabel('Sale Price')\n",
    "plt.show()"
   ]
  },
  {
   "cell_type": "code",
   "execution_count": null,
   "id": "c0b43822-ce8d-4e67-8731-455ca1a15d39",
   "metadata": {},
   "outputs": [],
   "source": [
    "## Count of Houses by Number of Rooms (countplot)\n",
    "plt.figure(figsize=(8,5))\n",
    "sns.countplot(x=df['num_rooms'], order=df['num_rooms'].value_counts().index, palette=\"coolwarm\")\n",
    "plt.title(\"Count of Houses by Number of Rooms\")\n",
    "plt.xlabel(\"Number of Rooms\")\n",
    "plt.ylabel(\"Count\")\n",
    "plt.show()"
   ]
  },
  {
   "cell_type": "code",
   "execution_count": null,
   "id": "f6c9552f-2e31-4aa8-b9e0-2a5742c37e89",
   "metadata": {},
   "outputs": [],
   "source": [
    "##Violin Plot of Sale Price vs Renovation Level (helps to see renovation affects sales price)\n",
    "plt.figure(figsize=(10,5))\n",
    "sns.violinplot(x='renovation_level', y='Sale Price', data=df, palette=\"coolwarm\")\n",
    "plt.title(\"Sale Price vs Renovation Level\")\n",
    "plt.show()"
   ]
  },
  {
   "cell_type": "code",
   "execution_count": null,
   "id": "ceae5685-68e9-4762-a256-ba9d0b9c301c",
   "metadata": {},
   "outputs": [],
   "source": [
    "plt.figure(figsize=(10,5))\n",
    "sns.lineplot(x=df['Year'], y=df['Sale Price'], estimator='mean', errorbar=None, marker='o', color='blue')\n",
    "plt.xticks(ticks=df['Year'].unique(), labels=df['Year'].unique(), rotation=45)  # Ensure proper labels\n",
    "plt.title(\"Average Sale Price Over the Years\")\n",
    "plt.xlabel(\"Year\")\n",
    "plt.ylabel(\"Average Sale Price\")\n",
    "plt.grid()\n",
    "plt.show()"
   ]
  },
  {
   "cell_type": "code",
   "execution_count": null,
   "id": "09e7ec96-2382-45ab-8427-255ffd67937e",
   "metadata": {},
   "outputs": [],
   "source": [
    "##Shows how much prices fluctuate every year.\n",
    "plt.figure(figsize=(20,30))\n",
    "sns.boxplot(x=df['Year'], y=df['Sale Price'], palette=\"coolwarm\")\n",
    "plt.title(\"Sale Price Distribution Over the Years\")\n",
    "plt.xlabel(\"Year\")\n",
    "plt.ylabel(\"Sale Price\")\n",
    "plt.xticks(rotation=45)\n",
    "plt.show()"
   ]
  },
  {
   "cell_type": "code",
   "execution_count": null,
   "id": "f477010a-cf7d-4b7e-8155-c5b57b98bd5b",
   "metadata": {},
   "outputs": [],
   "source": [
    "df_sorted = df.sort_values('Year')\n",
    "df_sorted['Moving_Avg_Sale_Price'] = df_sorted['Sale Price'].rolling(window=3, min_periods=1).mean()\n",
    "\n",
    "plt.figure(figsize=(10,5))\n",
    "sns.lineplot(x=df_sorted['Year'], y=df_sorted['Moving_Avg_Sale_Price'], color='red', marker='o')\n",
    "plt.xticks(ticks=df['Year'].unique(), labels=df['Year'].unique(), rotation=45)  # Ensure proper labels\n",
    "plt.title(\"2-Year Moving Average of Sale Price\")\n",
    "plt.xlabel(\"Year\")\n",
    "plt.ylabel(\"Moving Average Sale Price\")\n",
    "plt.grid()\n",
    "plt.show()"
   ]
  },
  {
   "cell_type": "code",
   "execution_count": null,
   "id": "6e2ecd2d-c209-401e-a1ac-f62d25af11b9",
   "metadata": {},
   "outputs": [],
   "source": [
    "top_localities = df.groupby('Locality')['Sale Price'].mean().nlargest(10)\n",
    "\n",
    "plt.figure(figsize=(12,5))\n",
    "sns.barplot(x=top_localities.index, y=top_localities.values, palette=\"coolwarm\")\n",
    "plt.title(\"Top 10 Localities with Highest Average Sale Prices\")\n",
    "plt.xlabel(\"Locality\")\n",
    "plt.ylabel(\"Average Sale Price\")\n",
    "plt.xticks(rotation=45)\n",
    "plt.show()"
   ]
  },
  {
   "cell_type": "code",
   "execution_count": null,
   "id": "46d1a230-4c24-4f8c-9ec1-eedb3f4c3246",
   "metadata": {},
   "outputs": [],
   "source": [
    "plt.figure(figsize=(15,8))\n",
    "sns.boxplot(x=df['renovation_level'], y=df['Sale Price'], palette=\"viridis\")\n",
    "plt.title(\"Impact of Renovation Level on Sale Price\")\n",
    "plt.xlabel(\"Renovation Level\")\n",
    "plt.ylabel(\"Sale Price\")\n",
    "plt.show()"
   ]
  },
  {
   "cell_type": "code",
   "execution_count": null,
   "id": "ed18ab31-9b01-4617-8e29-04e565fb26aa",
   "metadata": {},
   "outputs": [],
   "source": [
    "plt.figure(figsize=(20,10))\n",
    "sns.scatterplot(x=df['crime_rate'], y=df['Sale Price'], alpha=0.5, color=\"red\")\n",
    "plt.title(\"Crime Rate vs Sale Price\")\n",
    "plt.xlabel(\"Crime Rate\")\n",
    "plt.ylabel(\"Sale Price\")\n",
    "plt.grid()\n",
    "plt.show()"
   ]
  },
  {
   "cell_type": "code",
   "execution_count": null,
   "id": "aeb0a5ec-8e04-4f67-afdc-ca49fd6af8af",
   "metadata": {},
   "outputs": [],
   "source": [
    "plt.figure(figsize=(15,8))\n",
    "sns.barplot(x=df['Property'], y=df['Sale Price'], estimator=np.mean, ci=None, palette=\"magma\")\n",
    "plt.title(\"Average Sale Price by Property Type\")\n",
    "plt.xlabel(\"Property Type\")\n",
    "plt.ylabel(\"Average Sale Price\")\n",
    "plt.xticks(rotation=45)\n",
    "plt.show()"
   ]
  },
  {
   "cell_type": "code",
   "execution_count": null,
   "id": "a3fce738-e824-4f52-bb8c-280e70aea018",
   "metadata": {},
   "outputs": [],
   "source": [
    "plt.figure(figsize=(10, 5))\n",
    "sns.lineplot(x='Month', y='Sale Price', data=df, estimator='mean', marker='o', ci=None, color='blue')\n",
    "plt.title(\"Average Sale Price Trends Over Months\")\n",
    "plt.xlabel(\"Month\")\n",
    "plt.ylabel(\"Average Sale Price\")\n",
    "plt.xticks(range(1, 13))  # Ensure months are correctly labeled\n",
    "plt.grid(axis='y', linestyle='--', alpha=0.7)\n",
    "plt.show()"
   ]
  },
  {
   "cell_type": "code",
   "execution_count": null,
   "id": "3345b79d-fa8f-46ff-a0df-d5adceb8e1c4",
   "metadata": {},
   "outputs": [],
   "source": [
    "df.head()"
   ]
  },
  {
   "cell_type": "code",
   "execution_count": null,
   "id": "54127133-1f33-468e-bf65-af2644556b22",
   "metadata": {},
   "outputs": [],
   "source": [
    "df.info()"
   ]
  },
  {
   "cell_type": "code",
   "execution_count": null,
   "id": "269838c9-ca98-4977-a639-f45b0485fbd4",
   "metadata": {},
   "outputs": [],
   "source": [
    "df.head()"
   ]
  },
  {
   "cell_type": "code",
   "execution_count": null,
   "id": "22342e4e-262c-48d6-a72b-00153a47371f",
   "metadata": {},
   "outputs": [],
   "source": [
    "df.head()"
   ]
  },
  {
   "cell_type": "code",
   "execution_count": null,
   "id": "fb6e2333-956d-4682-8ee8-afdf22b8aa0e",
   "metadata": {},
   "outputs": [],
   "source": [
    "df.head()"
   ]
  },
  {
   "cell_type": "code",
   "execution_count": null,
   "id": "b38c43ec-1de0-4151-af57-2ef82d576651",
   "metadata": {},
   "outputs": [],
   "source": [
    "df.head()"
   ]
  },
  {
   "cell_type": "code",
   "execution_count": null,
   "id": "c2990bef-bdf6-4b6a-93cc-9aa475eefc7c",
   "metadata": {},
   "outputs": [],
   "source": [
    "df.head()"
   ]
  },
  {
   "cell_type": "code",
   "execution_count": null,
   "id": "b9e27496-658b-4a3d-afc5-fd704ad1d25a",
   "metadata": {},
   "outputs": [],
   "source": [
    "df.info()"
   ]
  },
  {
   "cell_type": "code",
   "execution_count": null,
   "id": "4143530f-7a80-4c85-bef6-e3d81d6c88b4",
   "metadata": {},
   "outputs": [],
   "source": [
    "# Check average sale price by locality\n",
    "df.groupby('Locality')['Sale Price'].mean().sort_values().plot(kind='barh', figsize=(8, 30))\n",
    "plt.title(\"Mean Sale Price by Locality\")\n",
    "plt.show()"
   ]
  },
  {
   "cell_type": "code",
   "execution_count": null,
   "id": "2e7c99bb-d06c-4324-b1e7-1516e552e25b",
   "metadata": {},
   "outputs": [],
   "source": [
    "df.head()"
   ]
  },
  {
   "cell_type": "code",
   "execution_count": null,
   "id": "1dc26ab0-0640-4694-bf7a-55d4797306ce",
   "metadata": {},
   "outputs": [],
   "source": [
    "df.head()"
   ]
  },
  {
   "cell_type": "code",
   "execution_count": null,
   "id": "5fc33f4d-82a6-4619-9775-951115856d09",
   "metadata": {},
   "outputs": [],
   "source": [
    "df.head()"
   ]
  },
  {
   "cell_type": "code",
   "execution_count": null,
   "id": "8e429357-98f9-4c24-a6fc-2bf3c2a57e76",
   "metadata": {},
   "outputs": [],
   "source": [
    "df.info()"
   ]
  },
  {
   "cell_type": "code",
   "execution_count": null,
   "id": "87c35789-d91f-4c40-a3c0-6fe452a21902",
   "metadata": {},
   "outputs": [],
   "source": [
    "df.head()"
   ]
  },
  {
   "cell_type": "code",
   "execution_count": null,
   "id": "a7aeefad-532b-4975-8ef1-de4f42511e52",
   "metadata": {},
   "outputs": [],
   "source": [
    "## Distribution of sales price\n",
    "plt.figure(figsize=(8,5))\n",
    "sns.histplot(df['Sale Price'], bins=50, kde=True, color='blue')\n",
    "plt.title('Distribution of Sale Price')\n",
    "plt.xlabel('Sale Price')\n",
    "plt.ylabel('Frequency')\n",
    "plt.show()"
   ]
  },
  {
   "cell_type": "code",
   "execution_count": null,
   "id": "93cd9383-fc0e-4bdd-aea1-089cf76f4cfa",
   "metadata": {},
   "outputs": [],
   "source": [
    "plt.figure(figsize=(8,5))\n",
    "sns.histplot(df['Sale Price'], bins=50, kde=True, color='blue')\n",
    "plt.title('Distribution of Sale Price')\n",
    "plt.xlabel('Sale Price')\n",
    "plt.ylabel('Frequency')\n",
    "plt.show()"
   ]
  },
  {
   "cell_type": "code",
   "execution_count": null,
   "id": "41d602e3-8f52-4992-98da-07c5d2a0e5b0",
   "metadata": {},
   "outputs": [],
   "source": [
    "df.head()"
   ]
  },
  {
   "cell_type": "code",
   "execution_count": null,
   "id": "7ad8f7d0-baf0-4d90-b38f-6f90902f85ef",
   "metadata": {},
   "outputs": [],
   "source": [
    "sns.histplot(df['Estimated Value'], kde=True)\n",
    "plt.title('Distribution of Estimated Value')\n",
    "plt.show()"
   ]
  },
  {
   "cell_type": "code",
   "execution_count": null,
   "id": "3db370ee-d2d9-46f7-bb91-77b8f5cee358",
   "metadata": {},
   "outputs": [],
   "source": [
    "df.head()"
   ]
  },
  {
   "cell_type": "code",
   "execution_count": null,
   "id": "43852c1b-61f8-4f13-b3bc-12852d73a281",
   "metadata": {},
   "outputs": [],
   "source": [
    "df.head()"
   ]
  },
  {
   "cell_type": "code",
   "execution_count": null,
   "id": "9aa44efb-ce73-4a6f-a0ff-e29207191a00",
   "metadata": {},
   "outputs": [],
   "source": [
    "df.head()"
   ]
  },
  {
   "cell_type": "code",
   "execution_count": null,
   "id": "74f697fd-1ac5-4ac4-bd3c-8489cd8d86de",
   "metadata": {},
   "outputs": [],
   "source": [
    "# Calculate residuals\n",
    "residuals = y_test_actual - y_pred_actual\n",
    "\n",
    "plt.figure(figsize=(10, 6))\n",
    "sns.histplot(residuals, kde=True, color='orange', bins=50)\n",
    "plt.title(\"Distribution of Prediction Errors (Residuals)\", fontsize=16)\n",
    "plt.xlabel(\"Prediction Error (Actual - Predicted) ₹\", fontsize=12)\n",
    "plt.ylabel(\"Frequency\", fontsize=12)\n",
    "plt.grid(True)\n",
    "plt.tight_layout()\n",
    "plt.show()"
   ]
  },
  {
   "cell_type": "markdown",
   "id": "26268fbb",
   "metadata": {},
   "source": [
    "## 6. Train-Test Split"
   ]
  },
  {
   "cell_type": "markdown",
   "id": "3d5ecafc",
   "metadata": {},
   "source": [
    "## 7. Model Training"
   ]
  },
  {
   "cell_type": "code",
   "execution_count": null,
   "id": "1ba5e693-ade7-45f3-8a56-e5bce3155d8f",
   "metadata": {},
   "outputs": [],
   "source": [
    "lr.fit(X_train,y_train)"
   ]
  },
  {
   "cell_type": "code",
   "execution_count": null,
   "id": "c6882e3c-c699-4668-a534-1fa53b472344",
   "metadata": {},
   "outputs": [],
   "source": [
    "model = xgb.XGBRegressor(\n",
    "    n_estimators=300,\n",
    "    learning_rate=0.05,\n",
    "    max_depth=6,\n",
    "    subsample=0.8,\n",
    "    colsample_bytree=0.8,\n",
    "    random_state=42\n",
    ")\n",
    "\n",
    "model.fit(X_train, y_train)"
   ]
  },
  {
   "cell_type": "markdown",
   "id": "5d971220",
   "metadata": {},
   "source": [
    "## 8. Model Evaluation"
   ]
  },
  {
   "cell_type": "code",
   "execution_count": null,
   "id": "2a8c67c6-95f7-4a87-9dcb-bd0b4b0bd6f2",
   "metadata": {},
   "outputs": [],
   "source": [
    "y_pred = model.predict(X_test)\n",
    "\n",
    "r2 = r2_score(y_test, y_pred)\n",
    "mae = mean_absolute_error(np.exp(y_test), np.exp(y_pred))  # Original price scale\n",
    "rmse = np.sqrt(mean_squared_error(np.exp(y_test), np.exp(y_pred)))\n",
    "\n",
    "print(\"📊 XGBoost Results\")\n",
    "print(\"R² Score:\", r2)\n",
    "print(\"MAE :\", mae)\n",
    "print(\"RMSE :\", rmse)"
   ]
  },
  {
   "cell_type": "code",
   "execution_count": null,
   "id": "b84cc4aa-9268-45be-863e-dff387504202",
   "metadata": {},
   "outputs": [],
   "source": [
    "# Convert back to actual prices before evaluating\n",
    "y_pred_actual = np.exp(y_pred)\n",
    "y_test_actual = np.exp(y_test)\n",
    "\n",
    "# Recalculate metrics\n",
    "mae = mean_absolute_error(y_test_actual, y_pred_actual)\n",
    "rmse = np.sqrt(mean_squared_error(y_test_actual, y_pred_actual))\n",
    "r2 = r2_score(y_test_actual, y_pred_actual)\n",
    "\n",
    "print(\"\\n📊 Actual Price Evaluation\")\n",
    "print(f\"🔹 R² Score: {r2:.4f}\")\n",
    "print(f\"🔹 MAE: ₹{mae:,.2f}\")\n",
    "print(f\"🔹 RMSE: ₹{rmse:,.2f}\")"
   ]
  }
 ],
 "metadata": {
  "kernelspec": {
   "display_name": "Python 3 (ipykernel)",
   "language": "python",
   "name": "python3"
  },
  "language_info": {
   "codemirror_mode": {
    "name": "ipython",
    "version": 3
   },
   "file_extension": ".py",
   "mimetype": "text/x-python",
   "name": "python",
   "nbconvert_exporter": "python",
   "pygments_lexer": "ipython3",
   "version": "3.12.7"
  }
 },
 "nbformat": 4,
 "nbformat_minor": 5
}
